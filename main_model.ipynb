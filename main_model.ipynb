{
 "cells": [
  {
   "cell_type": "code",
   "execution_count": null,
   "metadata": {},
   "outputs": [],
   "source": [
    "import numpy as np \n",
    "import matplotlib.pyplot as plt\n",
    "import pandas as pd \n",
    "import shutil\n",
    "import json\n",
    "import re\n",
    "import os\n",
    "\n",
    "import torch\n",
    "import torch.nn as nn\n",
    "import torch.nn.functional as F\n",
    "import torch.optim as optim\n",
    "from torchvision import datasets, transforms\n",
    "from torch.autograd import Variable\n",
    "import torch.utils.data as data_utils\n",
    "from torch.nn.modules import MSELoss, L1Loss\n",
    "\n",
    "import sklearn.preprocessing\n",
    "from sklearn.preprocessing import MultiLabelBinarizer\n",
    "import glob\n",
    "import csv\n",
    "import cv2\n",
    "import random\n",
    "from PIL import Image\n",
    "from itertools import product"
   ]
  },
  {
   "cell_type": "code",
   "execution_count": null,
   "metadata": {},
   "outputs": [],
   "source": [
    "path1 = \"./Movie_Poster_Metadata/groundtruth\"\n",
    "temp_path = \"./Movie_Poster_Metadata/temp_groundtruth\"\n",
    "path2 = \"./Movie_Poster_Metadata/updated_groundtruth\""
   ]
  },
  {
   "cell_type": "code",
   "execution_count": null,
   "metadata": {},
   "outputs": [],
   "source": [
    "#append all json objects to a dataframe\n",
    "dir_list = os.listdir(path2)\n",
    "movies_df = pd.DataFrame()\n",
    "\n",
    "for file_name in dir_list:\n",
    "    df = pd.read_json(path2 + '/' + file_name, encoding = 'utf-8', orient='records')\n",
    "    df = df[['imdbID', 'Director', 'Genre', 'imdbRating']]\n",
    "    movies_df = pd.concat([movies_df,df], ignore_index= True)"
   ]
  },
  {
   "cell_type": "code",
   "execution_count": null,
   "metadata": {},
   "outputs": [],
   "source": [
    "#remove not available genres\n",
    "movies_df = movies_df[movies_df['Genre'] != 'N/A']\n",
    "movies_df.shape"
   ]
  },
  {
   "cell_type": "code",
   "execution_count": null,
   "metadata": {},
   "outputs": [],
   "source": [
    "movies_df.info"
   ]
  },
  {
   "cell_type": "code",
   "execution_count": null,
   "metadata": {},
   "outputs": [],
   "source": [
    "movies_df = movies_df.drop_duplicates(subset= ['imdbID'], keep = 'last')\n",
    "movies_df.set_index('imdbID', inplace = True)"
   ]
  },
  {
   "cell_type": "code",
   "execution_count": null,
   "metadata": {},
   "outputs": [],
   "source": [
    "#needed to deal with space\n",
    "genres = movies_df['Genre'].dropna().str.split(',').apply(lambda x: [genre.strip() for genre in x])"
   ]
  },
  {
   "cell_type": "code",
   "execution_count": null,
   "metadata": {},
   "outputs": [],
   "source": [
    "all_genres = movies_df['Genre'].str.split(', ').explode()\n",
    "\n",
    "# Count unique genres\n",
    "unique_genres_count = all_genres.nunique()"
   ]
  },
  {
   "cell_type": "code",
   "execution_count": null,
   "metadata": {},
   "outputs": [],
   "source": [
    "all_genres.unique()"
   ]
  },
  {
   "cell_type": "code",
   "execution_count": null,
   "metadata": {},
   "outputs": [],
   "source": [
    "movies_df.head(10)"
   ]
  },
  {
   "cell_type": "code",
   "execution_count": null,
   "metadata": {},
   "outputs": [],
   "source": [
    "mlb = MultiLabelBinarizer()\n",
    "# multihot_temp = mlb.fit_transform(movies_df['Genre'].dropna().str.split(','))\n",
    "multihot_temp = mlb.fit_transform(genres)"
   ]
  },
  {
   "cell_type": "code",
   "execution_count": null,
   "metadata": {},
   "outputs": [],
   "source": [
    "genres_df = pd.DataFrame({\"multihot\":[multihot_temp.astype(int)]}, index = movies_df.index)\n",
    "movies_df = pd.concat([movies_df, genres_df], axis=1 )\n",
    "print(mlb.classes_)"
   ]
  },
  {
   "cell_type": "code",
   "execution_count": null,
   "metadata": {},
   "outputs": [],
   "source": [
    "#create a dictionary with multi-hot encoded vectors; index = imdbID\n",
    "multihot_dict = {movies_df.index.tolist()[i] : multihot_temp[i] for i in range(0, len(multihot_temp))}"
   ]
  },
  {
   "cell_type": "code",
   "execution_count": null,
   "metadata": {},
   "outputs": [],
   "source": [
    "multihot_dict"
   ]
  },
  {
   "cell_type": "code",
   "execution_count": null,
   "metadata": {},
   "outputs": [],
   "source": [
    "#training controls\n",
    "batch_size = 32\n",
    "number_of_labels = 27\n",
    "epochs = 5\n",
    "training_size = 0.7\n",
    "learning_rate = 0.001\n",
    "dropout = [0.3, 0.3, 0.3, 0.3, 0.2, 0.2, 0.2, 0.2, 0.15]\n",
    "# input image dimensions\n",
    "img_rows, img_cols = 224, 224"
   ]
  },
  {
   "cell_type": "code",
   "execution_count": null,
   "metadata": {},
   "outputs": [],
   "source": [
    "from glob import glob\n",
    "x_train, y_train, x_test, y_test = [], [], [], []\n",
    "\n",
    "# Specify the patterns for the two folders\n",
    "pattern1 = './Movie_Poster_dataset/*/*.jpg'\n",
    "pattern2 = './Movie_Poster_Dataset_Augmented/*.jpg'\n",
    "\n",
    "# Use glob to get a list of file paths matching both patterns\n",
    "flist = glob(pattern1) + glob(pattern2)\n",
    "random.shuffle(flist)\n",
    "\n",
    "genre_count = np.zeros(number_of_labels, dtype='float64')\n",
    "length = int(len(flist)* training_size)\n",
    "\n",
    "i = 0\n",
    "\n",
    "for filename in flist:\n",
    "    match = re.search(r'tt\\d+', filename)\n",
    "    if match:\n",
    "        imdb_id = match.group()\n",
    "    if imdb_id in multihot_dict:\n",
    "        img = np.array(cv2.imread(filename)).transpose(2,0,1)\n",
    "        genre_arr = np.array(multihot_dict[imdb_id])\n",
    "\n",
    "        if i<length:\n",
    "            x_train.append(img)\n",
    "            y_train.append(genre_arr)\n",
    "        else:\n",
    "            x_test.append(img)\n",
    "            y_test.append(genre_arr)\n",
    "        # genre_count = genre_count.astype('float64')\n",
    "        genre_count += genre_arr\n",
    "        i += 1\n",
    "\n",
    "classes = ['Action' ,'Adult', 'Adventure', \n",
    "           'Animation', 'Biography', 'Comedy', 'Crime',\n",
    "            'Documentary', 'Drama', 'Family', 'Fantasy' ,\n",
    "            'Game-Show', 'History', 'Horror',\n",
    "            'Music', 'Musical', 'Mystery', 'News', \n",
    "            'Reality-TV', 'Romance', 'Sci-Fi',\n",
    "            'Short', 'Sport', 'Talk-Show', 'Thriller', 'War', 'Western']\n",
    "\n"
   ]
  },
  {
   "cell_type": "code",
   "execution_count": null,
   "metadata": {},
   "outputs": [],
   "source": [
    "img_sum, total  = 0,  0\n",
    "for class_name, count in zip(classes, genre_count):\n",
    "    print(f'{class_name}: {count}')\n",
    "    img_sum += count\n",
    "    total += count\n",
    "print(f'total posters: {total}')"
   ]
  },
  {
   "cell_type": "code",
   "execution_count": null,
   "metadata": {},
   "outputs": [],
   "source": [
    "import matplotlib.pyplot as plt\n",
    "\n",
    "# Function to plot an image\n",
    "def plot_image(img, title):\n",
    "    plt.imshow(img.transpose(1, 2, 0))\n",
    "    plt.title(title)\n",
    "    plt.axis('off')\n",
    "    plt.show()\n",
    "\n",
    "# Randomly select 5 samples from the test dataset\n",
    "random_indices = np.random.choice(len(x_train), 5, replace=False)\n",
    "\n",
    "for index in random_indices:\n",
    "    img = x_train[index]\n",
    "    imdb_id = re.search(r'tt\\d+', flist[index]).group()\n",
    "    genre_info = y_train[index]\n",
    "\n",
    "    # Plot the image\n",
    "    plot_image(img, f'IMDb ID: {imdb_id}')\n",
    "\n",
    "    # Print corresponding genre information\n",
    "    print(f'IMDb ID: {imdb_id}')\n",
    "    print('Genre Information:')\n",
    "    for class_name, genre_label in zip(classes, genre_info):\n",
    "        if genre_label.any():\n",
    "            print(f'- {class_name}')\n",
    "\n",
    "    print('-' * 30)"
   ]
  },
  {
   "cell_type": "code",
   "execution_count": null,
   "metadata": {},
   "outputs": [],
   "source": [
    "x_train[0].shape"
   ]
  },
  {
   "cell_type": "code",
   "execution_count": null,
   "metadata": {},
   "outputs": [],
   "source": [
    "fixed_size = (32, 32)  # Adjust as needed\n",
    "x_train_resized = [cv2.resize(img.transpose(1, 2, 0), fixed_size).transpose(2, 0, 1) for img in x_train]\n",
    "\n",
    "x_test_resized = [cv2.resize(img.transpose(1, 2, 0), fixed_size).transpose(2, 0, 1) for img in x_test]\n",
    "\n",
    "# Convert lists to NumPy arrays\n",
    "x_train, y_train, x_test, y_test = map(np.array, [x_train_resized, y_train, x_test_resized, y_test])"
   ]
  },
  {
   "cell_type": "code",
   "execution_count": null,
   "metadata": {},
   "outputs": [],
   "source": [
    "x_train = x_train.astype('float32')  # Convert to float32\n",
    "x_test = x_test.astype('float32')  # Convert to float32\n",
    "\n",
    "\n",
    "#scaling down the RGB data\n",
    "x_train /= 255\n",
    "x_test /= 255\n",
    "\n",
    "#printing stats about the features\n",
    "print('x_train shape:', x_train.shape)\n",
    "print(x_train.shape[0], 'train samples')\n",
    "print(x_test.shape[0], 'test samples')"
   ]
  },
  {
   "cell_type": "code",
   "execution_count": null,
   "metadata": {},
   "outputs": [],
   "source": [
    "import matplotlib.pyplot as plt\n",
    "\n",
    "# Function to plot an image\n",
    "def plot_image(img, title):\n",
    "    plt.imshow(img.transpose(1, 2, 0))\n",
    "    plt.title(title)\n",
    "    plt.axis('off')\n",
    "    plt.show()\n",
    "\n",
    "# Randomly select 5 samples from the test dataset\n",
    "random_indices = np.random.choice(len(x_train), 5, replace=False)\n",
    "\n",
    "for index in random_indices:\n",
    "    img = x_train_resized[index]\n",
    "    imdb_id = re.search(r'tt\\d+', flist[index]).group()\n",
    "    genre_info = y_train[index]\n",
    "\n",
    "    # Plot the image\n",
    "    plot_image(img, f'IMDb ID: {imdb_id}')\n",
    "\n",
    "    # Print corresponding genre information\n",
    "    print(f'IMDb ID: {imdb_id}')\n",
    "    print('Genre Information:')\n",
    "    for class_name, genre_label in zip(classes, genre_info):\n",
    "        if genre_label.any():\n",
    "            print(f'- {class_name}')\n",
    "\n",
    "    print('-' * 30)"
   ]
  },
  {
   "cell_type": "code",
   "execution_count": null,
   "metadata": {},
   "outputs": [],
   "source": [
    "from torch.utils.data import DataLoader, TensorDataset\n",
    "# Assuming x_train_resized and x_test_resized are NumPy arrays\n",
    "# Convert them to torch Tensors\n",
    "x_train_tensor = torch.tensor(x_train, dtype=torch.float32)\n",
    "y_train_tensor = torch.tensor(y_train, dtype=torch.float32)\n",
    "x_test_tensor = torch.tensor(x_test, dtype=torch.float32)\n",
    "y_test_tensor = torch.tensor(y_test, dtype=torch.float32)\n",
    "\n",
    "# Combine x and y tensors into a TensorDataset\n",
    "train_dataset = TensorDataset(x_train_tensor, y_train_tensor)\n",
    "test_dataset = TensorDataset(x_test_tensor, y_test_tensor)\n",
    "\n",
    "# Define batch size\n",
    "batch_size = 64\n",
    "\n",
    "# Create DataLoader for training and testing\n",
    "train_loader = DataLoader(train_dataset, batch_size=batch_size, shuffle=True)\n",
    "test_loader = DataLoader(test_dataset, batch_size=batch_size, shuffle=True)\n"
   ]
  },
  {
   "cell_type": "markdown",
   "metadata": {},
   "source": [
    "DenseNet-121"
   ]
  },
  {
   "cell_type": "code",
   "execution_count": null,
   "metadata": {},
   "outputs": [],
   "source": [
    "model = torch.hub.load('pytorch/vision:v0.10.0', 'densenet121', pretrained=True)\n",
    "\n",
    "for param in model.parameters():\n",
    "    param.requires_grad = False\n",
    "\n",
    "model.classifier = nn.Sequential(nn.Linear(1024, number_of_labels),\n",
    "                                 nn.Sigmoid())\n",
    "\n",
    "model.float()\n",
    "device = torch.device(\"cuda:0\" if torch.cuda.is_available() else \"cpu\")\n",
    "print(f\"model loaded on {device}\")\n",
    "model.to(device) #hopefully runs model on cuda core.\n",
    "print(model)"
   ]
  },
  {
   "cell_type": "code",
   "execution_count": null,
   "metadata": {},
   "outputs": [],
   "source": [
    "for images, labels in train_loader:\n",
    "    print(labels.shape)"
   ]
  },
  {
   "cell_type": "markdown",
   "metadata": {},
   "source": [
    "Loss Function"
   ]
  },
  {
   "cell_type": "code",
   "execution_count": 88,
   "metadata": {},
   "outputs": [],
   "source": [
    "loss_fn = nn.BCEWithLogitsLoss()\n",
    "optimizer = optim.Adam(model.parameters(), lr = learning_rate, weight_decay= 0.0)"
   ]
  },
  {
   "cell_type": "code",
   "execution_count": 89,
   "metadata": {},
   "outputs": [],
   "source": [
    "# Function to save the model\n",
    "def saveModel():\n",
    "    path = \"./myFirstModel.pth\"\n",
    "    torch.save(model.state_dict(), path)\n",
    "\n",
    "def testAccuracy(loader):\n",
    "    model.eval()\n",
    "    accuracy = 0\n",
    "    total = 0\n",
    "    \n",
    "    classes = ['Action' ,'Adult', 'Adventure', \n",
    "           'Animation', 'Biography', 'Comedy', 'Crime',\n",
    "            'Documentary', 'Drama', 'Family', 'Fantasy' ,\n",
    "            'Game-Show', 'History', 'Horror',\n",
    "            'Music', 'Musical', 'Mystery', 'News', \n",
    "            'Reality-TV', 'Romance', 'Sci-Fi',\n",
    "            'Short', 'Sport', 'Talk-Show', 'Thriller', 'War', 'Western']\n",
    "\n",
    "    class_correct = list(0 for i in range(number_of_labels))\n",
    "    class_total = list(0 for i in range(number_of_labels))\n",
    "\n",
    "    with torch.no_grad():\n",
    "        device = torch.device(\"cuda:0\" if torch.cuda.is_available() else \"cpu\")\n",
    "        print(f\"model loaded on {device}\")\n",
    "        init_accuracy, final_accuracy = 0,0 \n",
    "        for images, labels in loader:\n",
    "            sum = 0\n",
    "            images, labels = images.to(device), labels.to(device)\n",
    "            outputs = model(images) \n",
    "\n",
    "            for j, label in enumerate(labels):\n",
    "                n = sum + label.sum().item()\n",
    "                #get top-k outputs\n",
    "                _, predicted = torch.topk(outputs[j], int(n))\n",
    "                \n",
    "                correct_predictions = 0\n",
    "                for _, k in enumerate(predicted):\n",
    "                    class_total[k] += 1\n",
    "                    if(label[k].item() == 1):\n",
    "                        correct_predictions += 1\n",
    "                        class_correct[k] += 1\n",
    "                    init_accuracy = correct_predictions/n\n",
    "            final_accuracy += init_accuracy\n",
    "\n",
    "            total += labels.size(0)\n",
    "    print('Total:', total)\n",
    "\n",
    "    #computer accuracy over all test images\n",
    "    accuracy = final_accuracy*100 /total\n",
    "    print('Accuracy:', accuracy)\n",
    "\n",
    "    for i in range(number_of_labels):\n",
    "        if class_total[i] != 0:\n",
    "            print(i)\n",
    "            print(class_correct[i], class_total[i])\n",
    "            print('Accuracy of %5s: %2d %%'%(\n",
    "                classes[i], 100 * class_correct[i]/ class_total[i]\n",
    "                ))\n",
    "\n",
    "    model.train()\n",
    "    return(accuracy)\n",
    "\n",
    "def train(num_epochs):\n",
    "    loss_values = []\n",
    "    accuracy_values = []\n",
    "    best_accuracy = 0\n",
    "    # Define your execution device\n",
    "    device = torch.device(\"cuda:0\" if torch.cuda.is_available() else \"cpu\")\n",
    "    print(\"The model will be running on\", device, \"device\")\n",
    "    # Convert model parameters and buffers to CPU or Cuda\n",
    "    model.to(device)\n",
    "\n",
    "    for epoch in range(num_epochs):\n",
    "        print(\"starting epoch\", epoch)\n",
    "        running_loss = 0\n",
    "        running_acc = 0\n",
    "\n",
    "        for images, labels in train_loader:\n",
    "            images = images.to(device)\n",
    "            labels = labels.to(device)\n",
    "\n",
    "            optimizer.zero_grad()\n",
    "\n",
    "            outputs = model(images)\n",
    "\n",
    "            loss = loss_fn(outputs, labels)\n",
    "            loss.backward()\n",
    "            optimizer.step()\n",
    "\n",
    "            running_loss += loss.item()\n",
    "            if i%1000 == 0:\n",
    "                print('[%d, %5d] loss: %.3f'%\n",
    "                      (epoch + 1, i+1, running_loss/1000))\n",
    "                running_loss = 0\n",
    "\n",
    "        accuracy = testAccuracy(train_loader)\n",
    "        print('For epoch', epoch+1,'the test accuracy over the whole test set is %d %%' % (accuracy))\n",
    "\n",
    "        # Append loss and accuracy values for plotting\n",
    "        loss_values.append(running_loss / len(train_loader))\n",
    "        accuracy_values.append(accuracy)\n",
    "\n",
    "        if accuracy> best_accuracy:\n",
    "            saveModel()\n",
    "            best_accuracy = accuracy\n",
    "\n",
    "    plt.figure(figsize=(12, 5))\n",
    "    plt.subplot(1, 2, 1)\n",
    "    plt.plot(loss_values, label='Training Loss')\n",
    "    plt.xlabel('Epochs')\n",
    "    plt.ylabel('Loss')\n",
    "    plt.title('Training Loss Over Epochs')\n",
    "    plt.legend()\n",
    "\n",
    "    # Plot accuracy values\n",
    "    plt.subplot(1, 2, 2)\n",
    "    plt.plot(accuracy_values, label='Test Accuracy')\n",
    "    plt.xlabel('Epochs')\n",
    "    plt.ylabel('Accuracy (%)')\n",
    "    plt.title('Test Accuracy Over Epochs')\n",
    "    plt.legend()\n",
    "\n",
    "    plt.tight_layout()\n",
    "    plt.show()\n"
   ]
  },
  {
   "cell_type": "code",
   "execution_count": 90,
   "metadata": {},
   "outputs": [
    {
     "name": "stdout",
     "output_type": "stream",
     "text": [
      "The model will be running on cpu device\n",
      "starting epoch 0\n",
      "model loaded on cpu\n",
      "Total: 28182\n",
      "Accuracy: 0.620372341683817\n",
      "0\n",
      "359 1268\n",
      "Accuracy of Action: 28 %\n",
      "1\n",
      "0 381\n",
      "Accuracy of Adventure:  0 %\n",
      "2\n",
      "106 438\n",
      "Accuracy of Animation: 24 %\n",
      "3\n",
      "11 228\n",
      "Accuracy of Biography:  4 %\n",
      "4\n",
      "16 235\n",
      "Accuracy of Comedy:  6 %\n",
      "5\n",
      "8483 19711\n",
      "Accuracy of Crime: 43 %\n",
      "6\n",
      "389 1500\n",
      "Accuracy of Documentary: 25 %\n",
      "7\n",
      "32 545\n",
      "Accuracy of Drama:  5 %\n",
      "8\n",
      "14038 28175\n",
      "Accuracy of Family: 49 %\n",
      "9\n",
      "20 239\n",
      "Accuracy of Fantasy:  8 %\n",
      "10\n",
      "82 718\n",
      "Accuracy of History: 11 %\n",
      "11\n",
      "0 216\n",
      "Accuracy of Horror:  0 %\n",
      "12\n",
      "58 870\n",
      "Accuracy of Music:  6 %\n",
      "13\n",
      "60 633\n",
      "Accuracy of Mystery:  9 %\n",
      "14\n",
      "48 832\n",
      "Accuracy of Romance:  5 %\n",
      "15\n",
      "30 1035\n",
      "Accuracy of Sci-Fi:  2 %\n",
      "16\n",
      "41 274\n",
      "Accuracy of Sport: 14 %\n",
      "17\n",
      "0 380\n",
      "Accuracy of   War:  0 %\n",
      "18\n",
      "0 482\n",
      "Accuracy of Other:  0 %\n",
      "19\n",
      "513 2325\n"
     ]
    },
    {
     "ename": "IndexError",
     "evalue": "list index out of range",
     "output_type": "error",
     "traceback": [
      "\u001b[1;31m---------------------------------------------------------------------------\u001b[0m",
      "\u001b[1;31mIndexError\u001b[0m                                Traceback (most recent call last)",
      "\u001b[1;32mUntitled-1.ipynb Cell 30\u001b[0m line \u001b[0;36m1\n\u001b[1;32m----> <a href='vscode-notebook-cell:Untitled-1.ipynb?jupyter-notebook#X51sdW50aXRsZWQ%3D?line=0'>1</a>\u001b[0m train(\u001b[39m2\u001b[39;49m)\n",
      "\u001b[1;32mUntitled-1.ipynb Cell 30\u001b[0m line \u001b[0;36m9\n\u001b[0;32m     <a href='vscode-notebook-cell:Untitled-1.ipynb?jupyter-notebook#X51sdW50aXRsZWQ%3D?line=88'>89</a>\u001b[0m         \u001b[39mprint\u001b[39m(\u001b[39m'\u001b[39m\u001b[39m[\u001b[39m\u001b[39m%d\u001b[39;00m\u001b[39m, \u001b[39m\u001b[39m%5d\u001b[39;00m\u001b[39m] loss: \u001b[39m\u001b[39m%.3f\u001b[39;00m\u001b[39m'\u001b[39m\u001b[39m%\u001b[39m\n\u001b[0;32m     <a href='vscode-notebook-cell:Untitled-1.ipynb?jupyter-notebook#X51sdW50aXRsZWQ%3D?line=89'>90</a>\u001b[0m               (epoch \u001b[39m+\u001b[39m \u001b[39m1\u001b[39m, i\u001b[39m+\u001b[39m\u001b[39m1\u001b[39m, running_loss\u001b[39m/\u001b[39m\u001b[39m1000\u001b[39m))\n\u001b[0;32m     <a href='vscode-notebook-cell:Untitled-1.ipynb?jupyter-notebook#X51sdW50aXRsZWQ%3D?line=90'>91</a>\u001b[0m         running_loss \u001b[39m=\u001b[39m \u001b[39m0\u001b[39m\n\u001b[1;32m---> <a href='vscode-notebook-cell:Untitled-1.ipynb?jupyter-notebook#X51sdW50aXRsZWQ%3D?line=92'>93</a>\u001b[0m accuracy \u001b[39m=\u001b[39m testAccuracy(train_loader)\n\u001b[0;32m     <a href='vscode-notebook-cell:Untitled-1.ipynb?jupyter-notebook#X51sdW50aXRsZWQ%3D?line=93'>94</a>\u001b[0m \u001b[39mprint\u001b[39m(\u001b[39m'\u001b[39m\u001b[39mFor epoch\u001b[39m\u001b[39m'\u001b[39m, epoch\u001b[39m+\u001b[39m\u001b[39m1\u001b[39m,\u001b[39m'\u001b[39m\u001b[39mthe test accuracy over the whole test set is \u001b[39m\u001b[39m%d\u001b[39;00m\u001b[39m \u001b[39m\u001b[39m%%\u001b[39;00m\u001b[39m'\u001b[39m \u001b[39m%\u001b[39m (accuracy))\n\u001b[0;32m     <a href='vscode-notebook-cell:Untitled-1.ipynb?jupyter-notebook#X51sdW50aXRsZWQ%3D?line=95'>96</a>\u001b[0m \u001b[39m# Append loss and accuracy values for plotting\u001b[39;00m\n",
      "\u001b[1;32mUntitled-1.ipynb Cell 30\u001b[0m line \u001b[0;36m5\n\u001b[0;32m     <a href='vscode-notebook-cell:Untitled-1.ipynb?jupyter-notebook#X51sdW50aXRsZWQ%3D?line=50'>51</a>\u001b[0m         \u001b[39mprint\u001b[39m(i)\n\u001b[0;32m     <a href='vscode-notebook-cell:Untitled-1.ipynb?jupyter-notebook#X51sdW50aXRsZWQ%3D?line=51'>52</a>\u001b[0m         \u001b[39mprint\u001b[39m(class_correct[i], class_total[i])\n\u001b[0;32m     <a href='vscode-notebook-cell:Untitled-1.ipynb?jupyter-notebook#X51sdW50aXRsZWQ%3D?line=52'>53</a>\u001b[0m         \u001b[39mprint\u001b[39m(\u001b[39m'\u001b[39m\u001b[39mAccuracy of \u001b[39m\u001b[39m%5s\u001b[39;00m\u001b[39m: \u001b[39m\u001b[39m%2d\u001b[39;00m\u001b[39m \u001b[39m\u001b[39m%%\u001b[39;00m\u001b[39m'\u001b[39m\u001b[39m%\u001b[39m(\n\u001b[1;32m---> <a href='vscode-notebook-cell:Untitled-1.ipynb?jupyter-notebook#X51sdW50aXRsZWQ%3D?line=53'>54</a>\u001b[0m             classes[i], \u001b[39m100\u001b[39m \u001b[39m*\u001b[39m class_correct[i]\u001b[39m/\u001b[39m class_total[i]\n\u001b[0;32m     <a href='vscode-notebook-cell:Untitled-1.ipynb?jupyter-notebook#X51sdW50aXRsZWQ%3D?line=54'>55</a>\u001b[0m             ))\n\u001b[0;32m     <a href='vscode-notebook-cell:Untitled-1.ipynb?jupyter-notebook#X51sdW50aXRsZWQ%3D?line=56'>57</a>\u001b[0m model\u001b[39m.\u001b[39mtrain()\n\u001b[0;32m     <a href='vscode-notebook-cell:Untitled-1.ipynb?jupyter-notebook#X51sdW50aXRsZWQ%3D?line=57'>58</a>\u001b[0m \u001b[39mreturn\u001b[39;00m(accuracy)\n",
      "\u001b[1;31mIndexError\u001b[0m: list index out of range"
     ]
    }
   ],
   "source": [
    "train(2)"
   ]
  },
  {
   "cell_type": "code",
   "execution_count": null,
   "metadata": {},
   "outputs": [],
   "source": []
  }
 ],
 "metadata": {
  "kernelspec": {
   "display_name": "azim",
   "language": "python",
   "name": "python3"
  },
  "language_info": {
   "codemirror_mode": {
    "name": "ipython",
    "version": 3
   },
   "file_extension": ".py",
   "mimetype": "text/x-python",
   "name": "python",
   "nbconvert_exporter": "python",
   "pygments_lexer": "ipython3",
   "version": "3.9.17"
  }
 },
 "nbformat": 4,
 "nbformat_minor": 2
}
